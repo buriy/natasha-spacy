{
 "cells": [
  {
   "cell_type": "code",
   "execution_count": null,
   "metadata": {},
   "outputs": [],
   "source": [
    "%config InlineBackend.figure_format='retina'"
   ]
  },
  {
   "cell_type": "markdown",
   "metadata": {},
   "source": [
    "# adapt"
   ]
  },
  {
   "cell_type": "code",
   "execution_count": null,
   "metadata": {
    "scrolled": false
   },
   "outputs": [],
   "source": [
    "# %run -n main.py\n",
    "# records = load_nerus(NERUS)\n",
    "# records = log_progress(records)\n",
    "# records = adapt_nerus(records)\n",
    "\n",
    "# chunk = head(records, 500)\n",
    "# lines = format_conll(chunk)\n",
    "# dump_gz_lines(lines, DEV)\n",
    "\n",
    "# chunk = head(records, 100000)\n",
    "# lines = format_conll(chunk)\n",
    "# dump_gz_lines(lines, TRAIN)"
   ]
  },
  {
   "cell_type": "code",
   "execution_count": null,
   "metadata": {},
   "outputs": [],
   "source": [
    "# %run -n main.py\n",
    "# navec = Navec.load(NAVEC)\n",
    "# model = navec.as_gensim\n",
    "# model.save_word2vec_format(EMB)\n",
    "# !gzip {EMB}"
   ]
  },
  {
   "cell_type": "code",
   "execution_count": null,
   "metadata": {},
   "outputs": [],
   "source": [
    "# %run -n main.py\n",
    "# s3 = S3()\n",
    "# s3.upload(TRAIN, S3_TRAIN)\n",
    "# s3.upload(DEV, S3_DEV)\n",
    "# s3.upload(EMB + GZ, S3_EMB)"
   ]
  },
  {
   "cell_type": "markdown",
   "metadata": {},
   "source": [
    "# grid"
   ]
  },
  {
   "cell_type": "markdown",
   "metadata": {},
   "source": [
    "## prune"
   ]
  },
  {
   "cell_type": "code",
   "execution_count": null,
   "metadata": {},
   "outputs": [],
   "source": [
    "%run -n main.py\n",
    "sizes = [10, 25, 50, 75, 100, 125, 200, 250, 300, 400, 500]\n",
    "paths = [\n",
    "    join(LOGS_DIR, f'{_}k_2k.txt')\n",
    "    for _ in sizes\n",
    "]\n",
    "\n",
    "scores = load_scores(paths)    \n",
    "show_scores(scores, sizes)"
   ]
  },
  {
   "cell_type": "markdown",
   "metadata": {},
   "source": [
    "## train"
   ]
  },
  {
   "cell_type": "code",
   "execution_count": null,
   "metadata": {
    "scrolled": true
   },
   "outputs": [],
   "source": [
    "sizes = [2, 5, 10, 20, 40, 60, 80, 100]\n",
    "paths = [\n",
    "    join(LOGS_DIR, f'125k_{_}k.txt')\n",
    "    for _ in sizes\n",
    "]\n",
    "\n",
    "scores = load_scores(paths)    \n",
    "show_scores(scores, sizes)"
   ]
  },
  {
   "cell_type": "markdown",
   "metadata": {},
   "source": [
    "# package"
   ]
  },
  {
   "cell_type": "code",
   "execution_count": null,
   "metadata": {},
   "outputs": [],
   "source": [
    "name = '125k_100k'"
   ]
  },
  {
   "cell_type": "code",
   "execution_count": null,
   "metadata": {},
   "outputs": [],
   "source": [
    "%run -n main.py\n",
    "path = join(MODELS_DIR, name, META + JSON)\n",
    "meta = load_json(path)\n",
    "patch = {\n",
    "    'name': 'core_news_md',\n",
    "    'lang': 'ru',\n",
    "    'version': '2.3.0',\n",
    "    'spacy_version': '>=2.3.0,<2.4.0',\n",
    "    'description': 'Russian multitask CNN initialized with Navec embeddings trained on Nerus dataset. Assigns context-specific token vectors, POS tags, dependency parse and named entities.',\n",
    "    'author': 'Yuri Baburov, Alexander Kukushkin',\n",
    "    'email': 'burchik@gmail.com, alex@alexkuk.ru',\n",
    "    'url': 'https://github.com/natasha/natasha-spacy',\n",
    "    'license': 'MIT',\n",
    "    'sources':[\n",
    "        {\n",
    "            'name': 'Nerus',\n",
    "            'url': 'https://github.com/natasha/nerus',\n",
    "        },\n",
    "        {\n",
    "            'name': 'Navec',\n",
    "            'url': 'https://github.com/natasha/navec'\n",
    "        }\n",
    "    ],\n",
    "}\n",
    "meta.update(patch)\n",
    "dump_json(meta, path)"
   ]
  },
  {
   "cell_type": "code",
   "execution_count": null,
   "metadata": {},
   "outputs": [],
   "source": [
    "dir = join(MODELS_DIR, name)\n",
    "!mkdir package\n",
    "!spacy package {dir} package\n",
    "!cd package/*; python setup.py sdist\n",
    "!mv package/*/dist/*.tar.gz .\n",
    "!rm -r package"
   ]
  },
  {
   "cell_type": "code",
   "execution_count": null,
   "metadata": {},
   "outputs": [],
   "source": [
    "path = 'ru_core_news_md-2.3.0.tar.gz'\n",
    "s3.upload(path, 'models/' + path)"
   ]
  },
  {
   "cell_type": "markdown",
   "metadata": {},
   "source": [
    "# usage"
   ]
  },
  {
   "cell_type": "code",
   "execution_count": null,
   "metadata": {},
   "outputs": [],
   "source": [
    "import spacy\n",
    "# Use ipymarkup for NER and syntax visualization\n",
    "from ipymarkup import show_dep_ascii_markup, show_span_ascii_markup\n",
    "\n",
    "nlp = spacy.load('ru_core_news_md')\n",
    "text = 'Посол Израиля на Украине Йоэль Лион признался, что пришел в шок, узнав о решении властей Львовской области объявить 2019 год годом лидера запрещенной в России Организации украинских националистов (ОУН) Степана Бандеры. Свое заявление он разместил в Twitter. «Я не могу понять, как прославление тех, кто непосредственно принимал участие в ужасных антисемитских преступлениях, помогает бороться с антисемитизмом и ксенофобией. Украина не должна забывать о преступлениях, совершенных против украинских евреев, и никоим образом не отмечать их через почитание их исполнителей», — написал дипломат. 11 декабря Львовский областной совет принял решение провозгласить 2019 год в регионе годом Степана Бандеры в связи с празднованием 110-летия со дня рождения лидера ОУН (Бандера родился 1 января 1909 года). В июле аналогичное решение принял Житомирский областной совет. В начале месяца с предложением к президенту страны Петру Порошенко вернуть Бандере звание Героя Украины обратились депутаты Верховной Рады. Парламентарии уверены, что признание Бандеры национальным героем поможет в борьбе с подрывной деятельностью против Украины в информационном поле, а также остановит «распространение мифов, созданных российской пропагандой». Степан Бандера (1909-1959) был одним из лидеров Организации украинских националистов, выступающей за создание независимого государства на территориях с украиноязычным населением. В 2010 году в период президентства Виктора Ющенко Бандера был посмертно признан Героем Украины, однако впоследствии это решение было отменено судом. '\n",
    "doc = nlp(text)"
   ]
  },
  {
   "cell_type": "code",
   "execution_count": null,
   "metadata": {
    "scrolled": false
   },
   "outputs": [],
   "source": [
    "spans = [\n",
    "    (_.start_char, _.end_char, _.label_)\n",
    "    for _ in doc.ents\n",
    "]\n",
    "show_span_ascii_markup(doc.text, spans)"
   ]
  },
  {
   "cell_type": "code",
   "execution_count": null,
   "metadata": {},
   "outputs": [],
   "source": [
    "sent = next(doc.sents)"
   ]
  },
  {
   "cell_type": "code",
   "execution_count": null,
   "metadata": {},
   "outputs": [],
   "source": [
    "for token in sent:\n",
    "    print(token.text.ljust(10), token.lemma_.ljust(10), token.tag_)"
   ]
  },
  {
   "cell_type": "code",
   "execution_count": null,
   "metadata": {
    "scrolled": false
   },
   "outputs": [],
   "source": [
    "words = [_.text for _ in sent]\n",
    "deps = [\n",
    "    (_.head.i, _.i, _.dep_)\n",
    "    for _ in sent\n",
    "    if _.i != _.head.i\n",
    "]\n",
    "show_dep_ascii_markup(words, deps)"
   ]
  },
  {
   "cell_type": "code",
   "execution_count": null,
   "metadata": {},
   "outputs": [],
   "source": []
  }
 ],
 "metadata": {
  "kernelspec": {
   "display_name": "Python 3",
   "language": "python",
   "name": "python3"
  },
  "language_info": {
   "codemirror_mode": {
    "name": "ipython",
    "version": 3
   },
   "file_extension": ".py",
   "mimetype": "text/x-python",
   "name": "python",
   "nbconvert_exporter": "python",
   "pygments_lexer": "ipython3",
   "version": "3.6.9"
  }
 },
 "nbformat": 4,
 "nbformat_minor": 2
}
